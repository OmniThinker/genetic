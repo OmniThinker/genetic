{
 "cells": [
  {
   "cell_type": "code",
   "execution_count": 1,
   "id": "2c202925-e9bd-419b-9df4-04cef869bf7b",
   "metadata": {},
   "outputs": [],
   "source": [
    "%load_ext autoreload\n",
    "%autoreload 2"
   ]
  },
  {
   "cell_type": "code",
   "execution_count": 2,
   "id": "4521073c-dca3-4025-88ab-ea6ef6d5f19d",
   "metadata": {},
   "outputs": [],
   "source": [
    "from genetic import *"
   ]
  },
  {
   "cell_type": "code",
   "execution_count": 3,
   "id": "0eaf5d77-b942-4acc-a5f1-19c72618dcda",
   "metadata": {},
   "outputs": [],
   "source": [
    "import numpy as np\n",
    "import time\n",
    "from tqdm import tqdm"
   ]
  },
  {
   "cell_type": "code",
   "execution_count": 4,
   "id": "a8a38700-45da-4096-af81-a6df7937fac4",
   "metadata": {},
   "outputs": [],
   "source": [
    "geno_type = FloatGenoType(10)"
   ]
  },
  {
   "cell_type": "code",
   "execution_count": 5,
   "id": "e92428fb-4bc6-4325-a956-48911344d341",
   "metadata": {},
   "outputs": [
    {
     "data": {
      "text/plain": [
       "Chromsome([0.2882196  0.05190962 0.76555807 0.64988668 0.41356172 0.16988219\n",
       " 0.41560904 0.73651737 0.83274998 0.14253816])"
      ]
     },
     "execution_count": 5,
     "metadata": {},
     "output_type": "execute_result"
    }
   ],
   "source": [
    "geno_type.create_chromosome()"
   ]
  },
  {
   "cell_type": "code",
   "execution_count": 6,
   "id": "e75e7fb4-f966-4c8f-a771-d08eaf48cf2b",
   "metadata": {},
   "outputs": [],
   "source": [
    "bf_mutate = BitFlipMutation(mutation_rate=0.02)"
   ]
  },
  {
   "cell_type": "code",
   "execution_count": 7,
   "id": "1cdafcf5-1ba9-47ea-9e6d-16ad7a907a2a",
   "metadata": {},
   "outputs": [],
   "source": [
    "rw_select = RouletteWheelSelection(selection_rate=0.5)"
   ]
  },
  {
   "cell_type": "code",
   "execution_count": 8,
   "id": "829954ce-16ab-47ff-bc3d-de8b7bed7842",
   "metadata": {},
   "outputs": [],
   "source": [
    "sp_crossover = SinglePointCrossover()"
   ]
  },
  {
   "cell_type": "code",
   "execution_count": 22,
   "id": "99c46e5d-82e3-49b7-9ac1-ad0eb05b91a7",
   "metadata": {},
   "outputs": [],
   "source": [
    "def fitness(chromosome: Chromosome, meta=None)-> np.float64:\n",
    "    # Faking a delay (heavy computation)\n",
    "    return (chromosome.genes > 0.5).sum()"
   ]
  },
  {
   "cell_type": "code",
   "execution_count": 23,
   "id": "ba291fca-36be-4307-b4c7-c66ed46606d4",
   "metadata": {},
   "outputs": [],
   "source": [
    "population = Population(n_individuals=100, geno_type=geno_type, fitness=fitness)"
   ]
  },
  {
   "cell_type": "code",
   "execution_count": 24,
   "id": "bd1b5a3a-e747-4654-af7f-c45489f1db79",
   "metadata": {},
   "outputs": [
    {
     "data": {
      "text/plain": [
       "12"
      ]
     },
     "execution_count": 24,
     "metadata": {},
     "output_type": "execute_result"
    }
   ],
   "source": [
    "import os\n",
    "os.cpu_count()"
   ]
  },
  {
   "cell_type": "code",
   "execution_count": 25,
   "id": "b4ff12f6-8214-4407-aa6e-a52d40288669",
   "metadata": {},
   "outputs": [
    {
     "name": "stderr",
     "output_type": "stream",
     "text": [
      "100%|██████████████████████████████████████████████████████████████████████████████████████████████████████████████████████████████████████████████████████| 100/100 [00:00<00:00, 719.12it/s]\n"
     ]
    }
   ],
   "source": [
    "generations = 100\n",
    "population.fitness()\n",
    "for gen in tqdm(range(generations)):\n",
    "    population = population | rw_select | sp_crossover | bf_mutate\n",
    "    population.fitness()\n"
   ]
  },
  {
   "cell_type": "code",
   "execution_count": 26,
   "id": "65c23efc-c868-4db3-96e5-0e3fd5953f2f",
   "metadata": {},
   "outputs": [
    {
     "data": {
      "text/plain": [
       "Individual(genes=[0.81794564 0.84042873 0.53175162 0.67316041 0.86644178 0.79244636\n",
       " 0.68855569 0.96566051 0.51059216 0.96994204], fitness=10)"
      ]
     },
     "execution_count": 26,
     "metadata": {},
     "output_type": "execute_result"
    }
   ],
   "source": [
    "population.best_individual()"
   ]
  },
  {
   "cell_type": "code",
   "execution_count": null,
   "id": "d170db8f-343d-4a86-8a1f-3e6a6b171c7a",
   "metadata": {},
   "outputs": [],
   "source": []
  }
 ],
 "metadata": {
  "kernelspec": {
   "display_name": "Python 3 (ipykernel)",
   "language": "python",
   "name": "python3"
  },
  "language_info": {
   "codemirror_mode": {
    "name": "ipython",
    "version": 3
   },
   "file_extension": ".py",
   "mimetype": "text/x-python",
   "name": "python",
   "nbconvert_exporter": "python",
   "pygments_lexer": "ipython3",
   "version": "3.10.13"
  }
 },
 "nbformat": 4,
 "nbformat_minor": 5
}
