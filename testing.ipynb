{
 "cells": [
  {
   "cell_type": "code",
   "execution_count": 1,
   "id": "2c202925-e9bd-419b-9df4-04cef869bf7b",
   "metadata": {},
   "outputs": [],
   "source": [
    "%load_ext autoreload\n",
    "%autoreload 2"
   ]
  },
  {
   "cell_type": "code",
   "execution_count": 7,
   "id": "4521073c-dca3-4025-88ab-ea6ef6d5f19d",
   "metadata": {},
   "outputs": [],
   "source": [
    "from genetic import *"
   ]
  },
  {
   "cell_type": "code",
   "execution_count": 21,
   "id": "0eaf5d77-b942-4acc-a5f1-19c72618dcda",
   "metadata": {},
   "outputs": [],
   "source": [
    "import numpy as np"
   ]
  },
  {
   "cell_type": "code",
   "execution_count": 9,
   "id": "a8a38700-45da-4096-af81-a6df7937fac4",
   "metadata": {},
   "outputs": [],
   "source": [
    "geno_type = BitVectorGenoType(10)"
   ]
  },
  {
   "cell_type": "code",
   "execution_count": 18,
   "id": "e75e7fb4-f966-4c8f-a771-d08eaf48cf2b",
   "metadata": {},
   "outputs": [],
   "source": [
    "mutation = BitFlipMutation(mutation_rate=0.02)"
   ]
  },
  {
   "cell_type": "code",
   "execution_count": 19,
   "id": "1cdafcf5-1ba9-47ea-9e6d-16ad7a907a2a",
   "metadata": {},
   "outputs": [],
   "source": [
    "selection = RouletteWheelSelection(selection_rate=0.5)"
   ]
  },
  {
   "cell_type": "code",
   "execution_count": 20,
   "id": "829954ce-16ab-47ff-bc3d-de8b7bed7842",
   "metadata": {},
   "outputs": [],
   "source": [
    "crossover = SinglePointCrossover()"
   ]
  },
  {
   "cell_type": "code",
   "execution_count": 36,
   "id": "99c46e5d-82e3-49b7-9ac1-ad0eb05b91a7",
   "metadata": {},
   "outputs": [],
   "source": [
    "\n",
    "def fitness(chromosome: Chromosome, meta=None)-> np.float64:\n",
    "    return (chromosome.genes == 1).sum()"
   ]
  },
  {
   "cell_type": "code",
   "execution_count": 37,
   "id": "ba291fca-36be-4307-b4c7-c66ed46606d4",
   "metadata": {},
   "outputs": [],
   "source": [
    "population = Population(n_individuals=100, geno_type=geno_type, fitness=fitness, crossover=crossover, mutation=mutation, selection=selection)"
   ]
  },
  {
   "cell_type": "code",
   "execution_count": 38,
   "id": "0656fd81-0e0f-423a-86da-79d65fe071e5",
   "metadata": {},
   "outputs": [
    {
     "data": {
      "text/plain": [
       "array([1, 0, 1, 0, 1, 0, 1, 0, 1, 1])"
      ]
     },
     "execution_count": 38,
     "metadata": {},
     "output_type": "execute_result"
    }
   ],
   "source": [
    "population.individuals[0].chromosome.genes"
   ]
  },
  {
   "cell_type": "code",
   "execution_count": 39,
   "id": "b4ff12f6-8214-4407-aa6e-a52d40288669",
   "metadata": {},
   "outputs": [],
   "source": [
    "population.fitness()"
   ]
  },
  {
   "cell_type": "code",
   "execution_count": 46,
   "id": "5c77b536-5f1b-4f9a-b77c-a90923a58b3a",
   "metadata": {},
   "outputs": [],
   "source": [
    "population.select()"
   ]
  },
  {
   "cell_type": "code",
   "execution_count": 48,
   "id": "744d4eec-3eb6-476e-b706-b176eef71d55",
   "metadata": {},
   "outputs": [
    {
     "data": {
      "text/plain": [
       "50"
      ]
     },
     "execution_count": 48,
     "metadata": {},
     "output_type": "execute_result"
    }
   ],
   "source": [
    "len(population)"
   ]
  },
  {
   "cell_type": "code",
   "execution_count": 49,
   "id": "1426cd25-a040-47c6-ba69-fe3c5a6c7ae0",
   "metadata": {},
   "outputs": [],
   "source": [
    "population.crossover()"
   ]
  },
  {
   "cell_type": "code",
   "execution_count": 50,
   "id": "9612e2d1-9d75-4a6c-8cde-0f2d6dfbe18c",
   "metadata": {},
   "outputs": [
    {
     "data": {
      "text/plain": [
       "50"
      ]
     },
     "execution_count": 50,
     "metadata": {},
     "output_type": "execute_result"
    }
   ],
   "source": [
    "len(population)"
   ]
  },
  {
   "cell_type": "code",
   "execution_count": 53,
   "id": "50b8cc26-5504-4cec-8f18-9648f6747697",
   "metadata": {},
   "outputs": [],
   "source": [
    "population.mutate()"
   ]
  },
  {
   "cell_type": "code",
   "execution_count": 54,
   "id": "d2535f57-70c5-4c73-924f-18b611d05f11",
   "metadata": {},
   "outputs": [
    {
     "data": {
      "text/plain": [
       "50"
      ]
     },
     "execution_count": 54,
     "metadata": {},
     "output_type": "execute_result"
    }
   ],
   "source": [
    "len(population)"
   ]
  },
  {
   "cell_type": "code",
   "execution_count": 55,
   "id": "64bc5c96-cc5e-4b6e-9bde-fe09bc489b2b",
   "metadata": {},
   "outputs": [],
   "source": [
    "population.fitness()"
   ]
  },
  {
   "cell_type": "code",
   "execution_count": 58,
   "id": "e67ff150-19cc-40e0-aabb-3cbc16ec34e5",
   "metadata": {},
   "outputs": [
    {
     "data": {
      "text/plain": [
       "8"
      ]
     },
     "execution_count": 58,
     "metadata": {},
     "output_type": "execute_result"
    }
   ],
   "source": [
    "max([i.fitness for i in population.individuals])"
   ]
  },
  {
   "cell_type": "code",
   "execution_count": null,
   "id": "65c23efc-c868-4db3-96e5-0e3fd5953f2f",
   "metadata": {},
   "outputs": [],
   "source": []
  }
 ],
 "metadata": {
  "kernelspec": {
   "display_name": "Python 3 (ipykernel)",
   "language": "python",
   "name": "python3"
  },
  "language_info": {
   "codemirror_mode": {
    "name": "ipython",
    "version": 3
   },
   "file_extension": ".py",
   "mimetype": "text/x-python",
   "name": "python",
   "nbconvert_exporter": "python",
   "pygments_lexer": "ipython3",
   "version": "3.10.13"
  }
 },
 "nbformat": 4,
 "nbformat_minor": 5
}
