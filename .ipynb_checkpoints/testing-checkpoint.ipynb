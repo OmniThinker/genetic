{
 "cells": [
  {
   "cell_type": "code",
   "execution_count": 1,
   "id": "2c202925-e9bd-419b-9df4-04cef869bf7b",
   "metadata": {},
   "outputs": [],
   "source": [
    "%load_ext autoreload\n",
    "%autoreload 2"
   ]
  },
  {
   "cell_type": "code",
   "execution_count": 7,
   "id": "4521073c-dca3-4025-88ab-ea6ef6d5f19d",
   "metadata": {},
   "outputs": [],
   "source": [
    "from genetic import *"
   ]
  },
  {
   "cell_type": "code",
   "execution_count": 21,
   "id": "0eaf5d77-b942-4acc-a5f1-19c72618dcda",
   "metadata": {},
   "outputs": [],
   "source": [
    "import numpy as np"
   ]
  },
  {
   "cell_type": "code",
   "execution_count": 9,
   "id": "a8a38700-45da-4096-af81-a6df7937fac4",
   "metadata": {},
   "outputs": [],
   "source": [
    "geno_type = BitVectorGenoType(10)"
   ]
  },
  {
   "cell_type": "code",
   "execution_count": 18,
   "id": "e75e7fb4-f966-4c8f-a771-d08eaf48cf2b",
   "metadata": {},
   "outputs": [],
   "source": [
    "mutation = BitFlipMutation(mutation_rate=0.02)"
   ]
  },
  {
   "cell_type": "code",
   "execution_count": 19,
   "id": "1cdafcf5-1ba9-47ea-9e6d-16ad7a907a2a",
   "metadata": {},
   "outputs": [],
   "source": [
    "selection = RouletteWheelSelection(selection_rate=0.5)"
   ]
  },
  {
   "cell_type": "code",
   "execution_count": 20,
   "id": "829954ce-16ab-47ff-bc3d-de8b7bed7842",
   "metadata": {},
   "outputs": [],
   "source": [
    "crossover = SinglePointCrossover()"
   ]
  },
  {
   "cell_type": "code",
   "execution_count": null,
   "id": "b61d2f90-89e1-4da6-87e0-4ee05a683b68",
   "metadata": {},
   "outputs": [],
   "source": [
    "class MyFitness[np.float64](Fitness):\n",
    "    def __call__(self, chromsome: Chromosome, meta=None) -> np.float64:\n",
    "        return 10"
   ]
  },
  {
   "cell_type": "code",
   "execution_count": 8,
   "id": "ba291fca-36be-4307-b4c7-c66ed46606d4",
   "metadata": {},
   "outputs": [
    {
     "ename": "TypeError",
     "evalue": "Population.__init__() missing 6 required positional arguments: 'n_individuals', 'geno_type', 'fitness', 'crossover', 'mutation', and 'selection'",
     "output_type": "error",
     "traceback": [
      "\u001b[0;31m---------------------------------------------------------------------------\u001b[0m",
      "\u001b[0;31mTypeError\u001b[0m                                 Traceback (most recent call last)",
      "Cell \u001b[0;32mIn[8], line 1\u001b[0m\n\u001b[0;32m----> 1\u001b[0m \u001b[43mPopulation\u001b[49m\u001b[43m(\u001b[49m\u001b[43m)\u001b[49m\n",
      "\u001b[0;31mTypeError\u001b[0m: Population.__init__() missing 6 required positional arguments: 'n_individuals', 'geno_type', 'fitness', 'crossover', 'mutation', and 'selection'"
     ]
    }
   ],
   "source": [
    "population = Population(100)"
   ]
  },
  {
   "cell_type": "code",
   "execution_count": null,
   "id": "0656fd81-0e0f-423a-86da-79d65fe071e5",
   "metadata": {},
   "outputs": [],
   "source": []
  }
 ],
 "metadata": {
  "kernelspec": {
   "display_name": "Python 3 (ipykernel)",
   "language": "python",
   "name": "python3"
  },
  "language_info": {
   "codemirror_mode": {
    "name": "ipython",
    "version": 3
   },
   "file_extension": ".py",
   "mimetype": "text/x-python",
   "name": "python",
   "nbconvert_exporter": "python",
   "pygments_lexer": "ipython3",
   "version": "3.10.13"
  }
 },
 "nbformat": 4,
 "nbformat_minor": 5
}
