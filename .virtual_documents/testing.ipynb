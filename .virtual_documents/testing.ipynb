%load_ext autoreload
%autoreload 2


import genetic


def diff_letters(a, b):
    return sum(a[i] != b[i] for i in range(len(a)))


class StringGenPopulation(genetic.Population):
    def __init__(self, target, geno_type, n_individuals):
        super().__init__(geno_type, n_individuals)
        self.target = target

    def fitness(self, geno_type):
        # Because geno_type is the same as pheno_type in this case we can just
        # create our own fitness function for the geno_type
        return -diff_letters(geno_type, self.target)


target_phrase = "hello world"
target_len = len(target_phrase)
geno_type = genetic.String(target_len)


population = StringGenPopulation(target=target_phrase, geno_type=geno_type, n_individuals=10000)


for gen in range(100):
    population.simulate().select()
    best_individual = population.best_individual()
    if best_individual["fitness"] == 0:
        print("breaking at generation "+str(gen))
        break
    population.crossover(genetic.StringSinglePointCrossover(target_len))


import pandas as pd


pd.DataFrame(population.individuals).describe()


pd.DataFrame(population.individuals)



