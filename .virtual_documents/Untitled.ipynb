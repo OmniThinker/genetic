%load_ext autoreload
%autoreload 2


import genetic


def diff_letters(a, b):
    return sum(a[i] != b[i] for i in range(len(a)))


class StringGenPopulation(genetic.Population):
    def __init__(self, target, geno_type, n_individuals):
        super().__init__(geno_type, n_individuals)
        self.target = target

    def fitness(self, geno_type):
        # Because geno_type is the same as pheno_type in this case we can just
        # create our own fitness function for the geno_type
        return -diff_letters(geno_type, self.target)


geno_type = genetic.String(3)


population = StringGenPopulation(target="hel", geno_type=geno_type, n_individuals=100)


population.simulate()


len(list(population.individuals))


population.select()


len(population.individuals)


population.crossover(genetic.StringSinglePointCrossover(3))


len(population.individuals)


population.individuals



